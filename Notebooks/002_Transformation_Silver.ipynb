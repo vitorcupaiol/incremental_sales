{
 "cells": [
  {
   "cell_type": "markdown",
   "metadata": {
    "application/vnd.databricks.v1+cell": {
     "cellMetadata": {
      "byteLimit": 2048000,
      "rowLimit": 10000
     },
     "inputWidgets": {},
     "nuid": "cc8359c5-5217-4e60-b40a-63fdc6f76c4f",
     "showTitle": false,
     "tableResultSettingsMap": {},
     "title": ""
    }
   },
   "source": [
    "#### Camada Silver: Limpeza e Transformação"
   ]
  },
  {
   "cell_type": "code",
   "execution_count": 0,
   "metadata": {
    "application/vnd.databricks.v1+cell": {
     "cellMetadata": {
      "byteLimit": 2048000,
      "rowLimit": 10000
     },
     "inputWidgets": {},
     "nuid": "c957b2ae-e0b1-4718-b9a5-933fa04f98ff",
     "showTitle": false,
     "tableResultSettingsMap": {},
     "title": ""
    }
   },
   "outputs": [],
   "source": [
    "# Importar as bibliotecas necessárias\n",
    "from pyspark.sql import SparkSession\n",
    "from pyspark.sql.functions import *\n",
    "from pyspark.sql.types import *\n",
    "\n",
    "# Iniciar a SparkSession com configurações otimizadas\n",
    "spark = SparkSession.builder \\\n",
    "    .appName(\"Transformação Data Silver\") \\\n",
    "    .config(\"spark.sql.shuffle.partitions\", \"200\")  \\\n",
    "    .config(\"spark.sql.files.maxPartitionBytes\", \"128MB\") \\\n",
    "    .config(\"spark.sql.parquet.compression.codec\", \"snappy\") \\\n",
    "    .config(\"spark.sql.adaptive.enabled\", \"true\") \\\n",
    "    .getOrCreate()\n",
    "\n",
    "bronze_path = '/FileStore/lhdw/bronze/vendas'\n",
    "silver_path = '/FileStore/lhdw/silver/vendas'"
   ]
  },
  {
   "cell_type": "code",
   "execution_count": 0,
   "metadata": {
    "application/vnd.databricks.v1+cell": {
     "cellMetadata": {
      "byteLimit": 2048000,
      "rowLimit": 10000
     },
     "inputWidgets": {},
     "nuid": "bd6346c1-fee1-4621-93a3-b5b517d11f7d",
     "showTitle": false,
     "tableResultSettingsMap": {},
     "title": ""
    }
   },
   "outputs": [],
   "source": [
    "#dbutils.fs.ls(bronze_path)"
   ]
  },
  {
   "cell_type": "markdown",
   "metadata": {
    "application/vnd.databricks.v1+cell": {
     "cellMetadata": {
      "byteLimit": 2048000,
      "rowLimit": 10000
     },
     "inputWidgets": {},
     "nuid": "832fe4e2-533d-4b8f-a3b9-11e3bd0139f1",
     "showTitle": false,
     "tableResultSettingsMap": {},
     "title": ""
    }
   },
   "source": [
    "####Cria a lista com os arquivos que serão processados para a camada SILVER"
   ]
  },
  {
   "cell_type": "code",
   "execution_count": 0,
   "metadata": {
    "application/vnd.databricks.v1+cell": {
     "cellMetadata": {
      "byteLimit": 2048000,
      "rowLimit": 10000
     },
     "inputWidgets": {},
     "nuid": "7b54536d-3522-4436-aa81-e50ae3f0fd33",
     "showTitle": false,
     "tableResultSettingsMap": {},
     "title": ""
    }
   },
   "outputs": [],
   "source": [
    "\n",
    "list_files = spark.read.csv('/FileStore/lhdw/bronze/vendas/files_to_silver_process',header=True,inferSchema=True)\\\n",
    "            .select('filename').distinct().collect()\n",
    "#print(list_files)"
   ]
  },
  {
   "cell_type": "markdown",
   "metadata": {
    "application/vnd.databricks.v1+cell": {
     "cellMetadata": {
      "byteLimit": 2048000,
      "rowLimit": 10000
     },
     "inputWidgets": {},
     "nuid": "52b0bffa-7726-45ce-94d3-fd8ae59321bf",
     "showTitle": false,
     "tableResultSettingsMap": {},
     "title": ""
    }
   },
   "source": [
    "####Processamento da Camada SILVER"
   ]
  },
  {
   "cell_type": "code",
   "execution_count": 0,
   "metadata": {
    "application/vnd.databricks.v1+cell": {
     "cellMetadata": {
      "byteLimit": 2048000,
      "rowLimit": 10000
     },
     "inputWidgets": {},
     "nuid": "2eb68a7b-31c6-4794-9d74-013ed0d888dd",
     "showTitle": false,
     "tableResultSettingsMap": {},
     "title": ""
    }
   },
   "outputs": [],
   "source": [
    "for row in list_files:\n",
    "    #Importa os dados da camada Bronze para transformação na camada Silver\n",
    "    df_bronze = spark.read.parquet(f'{bronze_path}/{row.filename}').distinct()\n",
    "    \n",
    "    #Transformação para a camada Silver\n",
    "    df_silver = df_bronze.withColumn('Data',to_date('data','yyyy-MM-dd'))\\\n",
    "                    .withColumn('Email',lower(regexp_replace(split('EmailNome',':')[0],'[()]','')))\\\n",
    "                    .withColumn('Nome', expr(\"split(split(EmailNome,':')[1],', ')\"))\\\n",
    "                    .withColumn('Nome',expr(\"concat(Nome[1],' ',Nome[0])\"))\\\n",
    "                    .withColumn('Cidade',split('Cidade',',')[0])\\\n",
    "                    .withColumn('PrecoUnitario',format_number(col('PrecoUnitario'),2).cast('double'))\\\n",
    "                    .withColumn('CustoUnitario',format_number(col('CustoUnitario'),2).cast('double'))\\\n",
    "                    .withColumn('TotalVendas',format_number(col('PrecoUnitario')*col('Unidades'),2).cast('double'))\\\n",
    "                    .drop('EmailNome')\\\n",
    "                    .drop('IDCampanha')\n",
    "\n",
    "    #Gravar transformações na Camada Silver\n",
    "    df_silver.withColumn('Ano',year('Data'))\\\n",
    "         .withColumn('Mes',month('Data'))\\\n",
    "         .write.partitionBy('Ano','Mes')\\\n",
    "         .format('parquet')\\\n",
    "         .mode('append')\\\n",
    "         .save(silver_path)"
   ]
  },
  {
   "cell_type": "code",
   "execution_count": 0,
   "metadata": {
    "application/vnd.databricks.v1+cell": {
     "cellMetadata": {
      "byteLimit": 2048000,
      "rowLimit": 10000
     },
     "inputWidgets": {},
     "nuid": "49b527dc-efe6-4cf1-802b-5ebac7120f4d",
     "showTitle": false,
     "tableResultSettingsMap": {},
     "title": ""
    }
   },
   "outputs": [],
   "source": [
    "spark.read.parquet(silver_path).select('filename').groupBy('filename').count().display()"
   ]
  },
  {
   "cell_type": "markdown",
   "metadata": {
    "application/vnd.databricks.v1+cell": {
     "cellMetadata": {
      "byteLimit": 2048000,
      "rowLimit": 10000
     },
     "inputWidgets": {},
     "nuid": "eeef47fa-a766-43ea-92bb-c7a09c609b4b",
     "showTitle": false,
     "tableResultSettingsMap": {},
     "title": ""
    }
   },
   "source": [
    "####Deleta arquivo 'files_to_silver_process', pois todos os arquivos foram processados."
   ]
  },
  {
   "cell_type": "code",
   "execution_count": 0,
   "metadata": {
    "application/vnd.databricks.v1+cell": {
     "cellMetadata": {
      "byteLimit": 2048000,
      "rowLimit": 10000
     },
     "inputWidgets": {},
     "nuid": "77aaffa6-91ea-405f-be44-396a14a7de3c",
     "showTitle": false,
     "tableResultSettingsMap": {},
     "title": ""
    }
   },
   "outputs": [],
   "source": [
    "dbutils.fs.rm('/FileStore/lhdw/bronze/vendas/files_to_silver_process',True)"
   ]
  },
  {
   "cell_type": "markdown",
   "metadata": {
    "application/vnd.databricks.v1+cell": {
     "cellMetadata": {
      "byteLimit": 2048000,
      "rowLimit": 10000
     },
     "inputWidgets": {},
     "nuid": "ae3ad02a-6092-43d1-b705-e64a2001afb9",
     "showTitle": false,
     "tableResultSettingsMap": {},
     "title": ""
    }
   },
   "source": [
    "### Limpeza de Memória"
   ]
  },
  {
   "cell_type": "code",
   "execution_count": 0,
   "metadata": {
    "application/vnd.databricks.v1+cell": {
     "cellMetadata": {
      "byteLimit": 2048000,
      "rowLimit": 10000
     },
     "inputWidgets": {},
     "nuid": "31b67496-0943-462c-86cd-bd23754ee11f",
     "showTitle": false,
     "tableResultSettingsMap": {},
     "title": ""
    }
   },
   "outputs": [],
   "source": [
    "del df_bronze\n",
    "del df_silver"
   ]
  }
 ],
 "metadata": {
  "application/vnd.databricks.v1+notebook": {
   "computePreferences": null,
   "dashboards": [],
   "environmentMetadata": {
    "base_environment": "",
    "environment_version": "1"
   },
   "inputWidgetPreferences": null,
   "language": "python",
   "notebookMetadata": {
    "pythonIndentUnit": 4
   },
   "notebookName": "002_Transformation_Silver",
   "widgets": {}
  }
 },
 "nbformat": 4,
 "nbformat_minor": 0
}