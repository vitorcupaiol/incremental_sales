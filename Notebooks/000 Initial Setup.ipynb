{
 "cells": [
  {
   "cell_type": "markdown",
   "metadata": {
    "application/vnd.databricks.v1+cell": {
     "cellMetadata": {},
     "inputWidgets": {},
     "nuid": "ebfede79-c229-49ce-95a3-0c147364c191",
     "showTitle": false,
     "tableResultSettingsMap": {},
     "title": ""
    }
   },
   "source": [
    "### 1. Criar os diretórios (DBFS)"
   ]
  },
  {
   "cell_type": "code",
   "execution_count": 0,
   "metadata": {
    "application/vnd.databricks.v1+cell": {
     "cellMetadata": {
      "byteLimit": 2048000,
      "rowLimit": 10000
     },
     "inputWidgets": {},
     "nuid": "45e01a13-df2f-4a87-8937-1ba4bbf05023",
     "showTitle": false,
     "tableResultSettingsMap": {},
     "title": ""
    }
   },
   "outputs": [
    {
     "output_type": "execute_result",
     "data": {
      "text/plain": [
       "True"
      ]
     },
     "execution_count": 2,
     "metadata": {},
     "output_type": "execute_result"
    }
   ],
   "source": [
    "# Criar uma pasta no Databricks para vinculo\n",
    "# Criando diretorios no DBFS\n",
    "dbutils.fs.mkdirs(\"/FileStore/lhdw/landingzone/vendas/processar\")\n",
    "dbutils.fs.mkdirs(\"/FileStore/lhdw/landingzone/vendas/processado\")\n",
    "dbutils.fs.mkdirs(\"/FileStore/lhdw/bronze\")\n",
    "dbutils.fs.mkdirs(\"/FileStore/lhdw/silver\")\n",
    "dbutils.fs.mkdirs(\"/FileStore/lhdw/gold\")"
   ]
  },
  {
   "cell_type": "markdown",
   "metadata": {
    "application/vnd.databricks.v1+cell": {
     "cellMetadata": {},
     "inputWidgets": {},
     "nuid": "e0029409-c28f-4fef-8905-f3af62f85c5a",
     "showTitle": false,
     "tableResultSettingsMap": {},
     "title": ""
    }
   },
   "source": [
    "###Apagando pastas/diretorios\n",
    "Processar apenas se necessario"
   ]
  },
  {
   "cell_type": "code",
   "execution_count": 0,
   "metadata": {
    "application/vnd.databricks.v1+cell": {
     "cellMetadata": {
      "byteLimit": 2048000,
      "rowLimit": 10000
     },
     "inputWidgets": {},
     "nuid": "2d53f47d-e642-46c5-a3dd-f80c888ddc62",
     "showTitle": false,
     "tableResultSettingsMap": {},
     "title": ""
    }
   },
   "outputs": [
    {
     "output_type": "execute_result",
     "data": {
      "text/plain": [
       "False"
      ]
     },
     "execution_count": 3,
     "metadata": {},
     "output_type": "execute_result"
    }
   ],
   "source": [
    "#dbutils.fs.rm(\"dbfs:/FileStore/lhdw\", recurse=True)\n",
    "#dbutils.fs.rm(\"dbfs:/FileStore/lhdw/landingzone\", recurse=True)\n",
    "#dbutils.fs.rm(\"dbfs:/FileStore/lhdw/bronze\", recurse=True)\n",
    "#dbutils.fs.rm(\"dbfs:/FileStore/lhdw/silver\", recurse=True)\n",
    "#dbutils.fs.rm(\"dbfs:/FileStore/lhdw/gold\", recurse=True)\n"
   ]
  }
 ],
 "metadata": {
  "application/vnd.databricks.v1+notebook": {
   "computePreferences": null,
   "dashboards": [],
   "environmentMetadata": null,
   "inputWidgetPreferences": null,
   "language": "python",
   "notebookMetadata": {
    "mostRecentlyExecutedCommandWithImplicitDF": {
     "commandId": 1116871994524729,
     "dataframes": [
      "_sqldf"
     ]
    },
    "pythonIndentUnit": 4
   },
   "notebookName": "000 Initial Setup",
   "widgets": {}
  }
 },
 "nbformat": 4,
 "nbformat_minor": 0
}